{
 "cells": [
  {
   "cell_type": "code",
   "execution_count": 101,
   "id": "ffe7be80",
   "metadata": {},
   "outputs": [],
   "source": [
    "import numpy as np\n",
    "import pandas as pd\n",
    "import pickle\n",
    "%config IPCompleter.greedy=True\n",
    "from sklearn.preprocessing import OrdinalEncoder\n",
    "from sklearn.preprocessing import OneHotEncoder\n",
    "from sklearn.preprocessing import Binarizer\n",
    "from sklearn.preprocessing import MinMaxScaler\n",
    "from sklearn.linear_model import LogisticRegression\n",
    "from sklearn.ensemble import HistGradientBoostingRegressor\n",
    "from sklearn.pipeline import Pipeline\n",
    "from sklearn.preprocessing import FunctionTransformer\n",
    "from sklearn.compose import make_column_transformer\n",
    "from sklearn.pipeline import make_pipeline"
   ]
  },
  {
   "cell_type": "markdown",
   "id": "5e12241c",
   "metadata": {},
   "source": [
    "## UPLOAD DATA"
   ]
  },
  {
   "cell_type": "code",
   "execution_count": 102,
   "id": "5a6711f7",
   "metadata": {},
   "outputs": [],
   "source": [
    "path = '../../'"
   ]
  },
  {
   "cell_type": "code",
   "execution_count": 103,
   "id": "25b345d7",
   "metadata": {},
   "outputs": [],
   "source": [
    "name_data_file = 'Loans.csv'"
   ]
  },
  {
   "cell_type": "code",
   "execution_count": 104,
   "id": "480494ff",
   "metadata": {},
   "outputs": [],
   "source": [
    "full_path = path + '/02_Data/01_Original/' + name_data_file\n",
    "\n",
    "df = pd.read_csv(full_path,index_col=0)"
   ]
  },
  {
   "cell_type": "markdown",
   "id": "454738c9",
   "metadata": {},
   "source": [
    "### Final Variables Selection"
   ]
  },
  {
   "cell_type": "code",
   "execution_count": 105,
   "id": "da477021",
   "metadata": {},
   "outputs": [],
   "source": [
    "final_variables = ['ingresos_verificados',\n",
    "                     'vivienda',\n",
    "                     'finalidad',\n",
    "                     'num_cuotas',\n",
    "                     'antigüedad_empleo',\n",
    "                     'rating',\n",
    "                     'ingresos',\n",
    "                     'dti',\n",
    "                     'num_lineas_credito',\n",
    "                     'porc_uso_revolving',\n",
    "                     'principal',\n",
    "                     'tipo_interes',\n",
    "                     'imp_cuota',\n",
    "                     'num_derogatorios',\n",
    "                     'estado',\n",
    "                     'imp_amortizado',\n",
    "                     'imp_recuperado'\n",
    "                  ]"
   ]
  },
  {
   "cell_type": "markdown",
   "id": "a9cd9497",
   "metadata": {},
   "source": [
    "### Drop rows"
   ]
  },
  {
   "cell_type": "markdown",
   "id": "4af7dbab",
   "metadata": {},
   "source": [
    "#### By outliers"
   ]
  },
  {
   "cell_type": "code",
   "execution_count": 106,
   "id": "361fd5f0",
   "metadata": {},
   "outputs": [],
   "source": [
    "to_drop = df.loc[df.ingresos > 300000].index.values"
   ]
  },
  {
   "cell_type": "code",
   "execution_count": 107,
   "id": "88b5ccb4",
   "metadata": {},
   "outputs": [],
   "source": [
    "df = df[~df.index.isin(to_drop)]"
   ]
  },
  {
   "cell_type": "markdown",
   "id": "1852c8f6",
   "metadata": {},
   "source": [
    "### variables selection"
   ]
  },
  {
   "cell_type": "code",
   "execution_count": 108,
   "id": "eb115fbf",
   "metadata": {},
   "outputs": [],
   "source": [
    "df = df[final_variables]"
   ]
  },
  {
   "cell_type": "markdown",
   "id": "99bb2255",
   "metadata": {},
   "source": [
    "##  MAKE PIPELINE"
   ]
  },
  {
   "cell_type": "markdown",
   "id": "6d6e8fca",
   "metadata": {},
   "source": [
    "### Data Quality"
   ]
  },
  {
   "cell_type": "code",
   "execution_count": 123,
   "id": "98177b43",
   "metadata": {},
   "outputs": [],
   "source": [
    "def data_quality(temp):\n",
    "    \n",
    "    temp['antigüedad_empleo'] = temp['antigüedad_empleo'].fillna('anknown')\n",
    "    temp['dti'].fillna(0,inplace=True)\n",
    "    temp['num_lineas_credito'].fillna(0,inplace=True)\n",
    "    temp['porc_uso_revolving'].fillna(0,inplace=True)\n",
    "    temp['num_derogatorios'].fillna(0,inplace=True)\n",
    "    #temp.select_dtypes('number').fillna(0,inplace=True)\n",
    "    \n",
    "    return(temp)"
   ]
  },
  {
   "cell_type": "markdown",
   "id": "e30da63d",
   "metadata": {},
   "source": [
    "#### Functions for models"
   ]
  },
  {
   "cell_type": "code",
   "execution_count": 110,
   "id": "4b461455",
   "metadata": {},
   "outputs": [],
   "source": [
    "def make_variables_pd(df):\n",
    "    \n",
    "    temp = df.copy()\n",
    "    \n",
    "    temp['target_pd'] = np.where(temp.estado.isin(['Charged Off','Does not meet the credit policy. Status:Charged Off','Default']), 1, 0)\n",
    "    \n",
    "    temp.vivienda = temp.vivienda.replace(['ANY','NONE','OTHER'],'MORTGAGE')\n",
    "    \n",
    "    temp.finalidad = temp.finalidad.replace(['wedding','educational','renewable_energy'],'OTHERS')\n",
    "    \n",
    "    #Drop variables\n",
    "    temp.drop(columns = ['estado','imp_amortizado','imp_recuperado'],inplace = True)\n",
    "    \n",
    "    temp_x = temp.iloc[:,:-1]\n",
    "    temp_y = temp.iloc[:,-1]\n",
    "    \n",
    "    return(temp_x,temp_y)"
   ]
  },
  {
   "cell_type": "code",
   "execution_count": 111,
   "id": "4f12fd5c",
   "metadata": {},
   "outputs": [],
   "source": [
    "def make_variables_ead(df):\n",
    "    \n",
    "    temp = df.copy()\n",
    "    \n",
    "    temp['remaining'] = temp.principal - temp.imp_amortizado\n",
    "    \n",
    "    temp['target_ead'] = temp.remaining / temp.principal\n",
    "    \n",
    "    temp.vivienda = temp.vivienda.replace(['ANY','NONE','OTHER'],'MORTGAGE')\n",
    "    \n",
    "    temp.finalidad = temp.finalidad.replace(['wedding','educational','renewable_energy'],'OTHERS')\n",
    "    \n",
    "    temp.drop(columns = ['estado','imp_amortizado','imp_recuperado','remaining'],inplace = True)\n",
    "    \n",
    "    #predict and target\n",
    "    temp_x = temp.iloc[:,:-1]\n",
    "    temp_y = temp.iloc[:,-1]\n",
    "    \n",
    "    return(temp_x,temp_y)"
   ]
  },
  {
   "cell_type": "code",
   "execution_count": 112,
   "id": "ee89e853",
   "metadata": {},
   "outputs": [],
   "source": [
    "def make_variables_lgd(df):\n",
    "    \n",
    "    temp = df.copy()\n",
    "    \n",
    "    temp['remaining'] = temp.principal - temp.imp_amortizado\n",
    "    \n",
    "    temp['target_lgd'] = 1 - (temp.imp_recuperado / temp.remaining)\n",
    "    \n",
    "    temp['target_lgd'].fillna(0,inplace=True)\n",
    "    \n",
    "    temp.vivienda = temp.vivienda.replace(['ANY','NONE','OTHER'],'MORTGAGE')\n",
    "    \n",
    "    temp.finalidad = temp.finalidad.replace(['wedding','educational','renewable_energy'],'OTHERS')\n",
    " \n",
    "    temp.drop(columns = ['estado','imp_amortizado','imp_recuperado','remaining'],inplace = True)\n",
    "    \n",
    "    # Predictors and target\n",
    "    temp_x = temp.iloc[:,:-1]\n",
    "    temp_y = temp.iloc[:,-1]\n",
    "    \n",
    "    return(temp_x,temp_y)"
   ]
  },
  {
   "cell_type": "markdown",
   "id": "de72308d",
   "metadata": {},
   "source": [
    "#### Make dataframes de X e y"
   ]
  },
  {
   "cell_type": "code",
   "execution_count": 113,
   "id": "053dd03e",
   "metadata": {},
   "outputs": [],
   "source": [
    "x_pd, y_pd = make_variables_pd(data_quality(df))\n",
    "                                  \n",
    "x_ead, y_ead = make_variables_ead(data_quality(df))\n",
    "\n",
    "x_lgd, y_lgd = make_variables_lgd(data_quality(df))"
   ]
  },
  {
   "cell_type": "code",
   "execution_count": 114,
   "id": "833295b8",
   "metadata": {},
   "outputs": [
    {
     "data": {
      "text/plain": [
       "False    198679\n",
       "Name: num_derogatorios, dtype: int64"
      ]
     },
     "execution_count": 114,
     "metadata": {},
     "output_type": "execute_result"
    }
   ],
   "source": [
    "x_lgd.num_derogatorios.isna().value_counts()"
   ]
  },
  {
   "cell_type": "markdown",
   "id": "88e57147",
   "metadata": {},
   "source": [
    "### variables Transformation"
   ]
  },
  {
   "cell_type": "code",
   "execution_count": 115,
   "id": "ee711664",
   "metadata": {},
   "outputs": [],
   "source": [
    "#ONE HOT ENCODING\n",
    "var_ohe = [ 'ingresos_verificados', 'vivienda','finalidad','num_cuotas']\n",
    "ohe = OneHotEncoder(sparse = False, handle_unknown='ignore')\n",
    "\n",
    "\n",
    "#ORDINAL ENCODING\n",
    "var_oe = ['antigüedad_empleo','rating']\n",
    "\n",
    "order_seniority_employment = ['anknown','< 1 year','1 year','2 years','3 years','4 years',\n",
    "                           '5 years','6 years','7 years','8 years','9 years','10+ years']\n",
    "\n",
    "order_rating = ['A','B','C','D','E','F','G']\n",
    "\n",
    "oe = OrdinalEncoder(categories = [order_seniority_employment ,order_rating],\n",
    "                    handle_unknown = 'use_encoded_value',\n",
    "                    unknown_value = 12)\n",
    "\n",
    "#BINNING\n",
    "var_bin = ['num_derogatorios']\n",
    "bina = Binarizer(threshold=0)\n",
    "\n",
    "\n",
    "#MIN-MAX SCALING\n",
    "var_mms = ['ingresos','dti','num_lineas_credito','porc_uso_revolving',\n",
    "            'principal','tipo_interes','imp_cuota']\n",
    "mms = MinMaxScaler()\n"
   ]
  },
  {
   "cell_type": "markdown",
   "id": "eaf3f141",
   "metadata": {},
   "source": [
    "### Make procesing pipe"
   ]
  },
  {
   "cell_type": "markdown",
   "id": "8d7b7821",
   "metadata": {},
   "source": [
    "#### Crear el column transformer"
   ]
  },
  {
   "cell_type": "code",
   "execution_count": 116,
   "id": "e577b34d",
   "metadata": {},
   "outputs": [],
   "source": [
    "ct = make_column_transformer(\n",
    "    (ohe, var_ohe),\n",
    "    (oe, var_oe),\n",
    "    (bina, var_bin),\n",
    "    (mms, var_mms),\n",
    "    remainder='passthrough')"
   ]
  },
  {
   "cell_type": "markdown",
   "id": "b64c9e60",
   "metadata": {},
   "source": [
    "#### Algorithms"
   ]
  },
  {
   "cell_type": "code",
   "execution_count": 117,
   "id": "8b2e752d",
   "metadata": {},
   "outputs": [],
   "source": [
    "model_pd = LogisticRegression(solver = 'saga', n_jobs=-1, C = 0.25, penalty = 'l1')\n",
    "\n",
    "model_ead = HistGradientBoostingRegressor(learning_rate = 0.1,\n",
    "                                          max_iter = 200,\n",
    "                                          max_depth = 10,\n",
    "                                          min_samples_leaf = 100,\n",
    "                                          scoring = 'neg_mean_absolute_percentage_error',\n",
    "                                          l2_regularization = 0.75)\n",
    "\n",
    "model_lgd = HistGradientBoostingRegressor(learning_rate = 0.1,\n",
    "                                          max_iter = 200,\n",
    "                                          max_depth = 20,\n",
    "                                          min_samples_leaf = 100,\n",
    "                                          scoring = 'neg_mean_absolute_percentage_error',\n",
    "                                          l2_regularization = 0)"
   ]
  },
  {
   "cell_type": "markdown",
   "id": "80f8e2f3",
   "metadata": {},
   "source": [
    "#### Make training pipes"
   ]
  },
  {
   "cell_type": "code",
   "execution_count": 118,
   "id": "0efb038b",
   "metadata": {},
   "outputs": [],
   "source": [
    "pipe_training_pd = make_pipeline(ct,model_pd)\n",
    "\n",
    "pipe_training_ead = make_pipeline(ct,model_ead)\n",
    "\n",
    "pipe_training_lgd = make_pipeline(ct,model_lgd)"
   ]
  },
  {
   "cell_type": "markdown",
   "id": "cb0700d8",
   "metadata": {},
   "source": [
    "#### Save training pipe"
   ]
  },
  {
   "cell_type": "code",
   "execution_count": 119,
   "id": "74b5beda",
   "metadata": {},
   "outputs": [],
   "source": [
    "path_pipe_training_pd = path + '/04_Models/pipe_training_pd.pickle'\n",
    "\n",
    "with open(path_pipe_training_pd, mode='wb') as file:\n",
    "   pickle.dump(path_pipe_training_pd, file)"
   ]
  },
  {
   "cell_type": "code",
   "execution_count": 120,
   "id": "1dbf4597",
   "metadata": {},
   "outputs": [],
   "source": [
    "path_pipe_training_ead = path + '/04_Models/pipe_training_ead.pickle'\n",
    "\n",
    "with open(path_pipe_training_ead, mode='wb') as file:\n",
    "   pickle.dump(path_pipe_training_ead, file)"
   ]
  },
  {
   "cell_type": "code",
   "execution_count": 121,
   "id": "004f26f1",
   "metadata": {},
   "outputs": [],
   "source": [
    "path_pipe_training_lgd = path + '/04_Models/pipe_training_lgd.pickle'\n",
    "\n",
    "with open(path_pipe_training_lgd, mode='wb') as file:\n",
    "   pickle.dump(path_pipe_training_lgd, file)"
   ]
  },
  {
   "cell_type": "markdown",
   "id": "2c7e5ed1",
   "metadata": {},
   "source": [
    "#### Fit  pipes"
   ]
  },
  {
   "cell_type": "code",
   "execution_count": 122,
   "id": "13ca2db6",
   "metadata": {},
   "outputs": [
    {
     "name": "stderr",
     "output_type": "stream",
     "text": [
      "C:\\Users\\luise\\anaconda3\\envs\\riesgos\\lib\\site-packages\\sklearn\\preprocessing\\_encoders.py:808: FutureWarning: `sparse` was renamed to `sparse_output` in version 1.2 and will be removed in 1.4. `sparse_output` is ignored unless you leave `sparse` to its default value.\n",
      "  warnings.warn(\n",
      "C:\\Users\\luise\\anaconda3\\envs\\riesgos\\lib\\site-packages\\sklearn\\preprocessing\\_encoders.py:808: FutureWarning: `sparse` was renamed to `sparse_output` in version 1.2 and will be removed in 1.4. `sparse_output` is ignored unless you leave `sparse` to its default value.\n",
      "  warnings.warn(\n",
      "C:\\Users\\luise\\anaconda3\\envs\\riesgos\\lib\\site-packages\\sklearn\\preprocessing\\_encoders.py:808: FutureWarning: `sparse` was renamed to `sparse_output` in version 1.2 and will be removed in 1.4. `sparse_output` is ignored unless you leave `sparse` to its default value.\n",
      "  warnings.warn(\n"
     ]
    }
   ],
   "source": [
    "pipe_execution_pd = pipe_training_pd.fit(x_pd,y_pd)\n",
    "pipe_execution_ead = pipe_training_ead.fit(x_ead,y_ead)\n",
    "pipe_execution_lgd = pipe_training_lgd.fit(x_lgd,y_lgd)"
   ]
  },
  {
   "cell_type": "markdown",
   "id": "52e506db",
   "metadata": {},
   "source": [
    "## Save dataset"
   ]
  },
  {
   "cell_type": "code",
   "execution_count": 124,
   "id": "1dda8f25",
   "metadata": {},
   "outputs": [],
   "source": [
    "path_pipe_execution_pd = path + '/04_Models/pipe_execution_pd.pickle'\n",
    "\n",
    "with open(path_pipe_execution_pd, mode='wb') as file:\n",
    "   pickle.dump(pipe_execution_pd, file)"
   ]
  },
  {
   "cell_type": "code",
   "execution_count": 125,
   "id": "dcde2dbb",
   "metadata": {},
   "outputs": [],
   "source": [
    "path_pipe_execution_ead = path + '/04_Models/pipe_execution_ead.pickle'\n",
    "\n",
    "with open(path_pipe_execution_ead, mode='wb') as file:\n",
    "   pickle.dump(pipe_execution_ead, file)"
   ]
  },
  {
   "cell_type": "code",
   "execution_count": 126,
   "id": "9b5a5b3e",
   "metadata": {},
   "outputs": [],
   "source": [
    "path_pipe_execution_lgd = path + '/04_Models/pipe_execution_lgd.pickle'\n",
    "\n",
    "with open(path_pipe_execution_lgd, mode='wb') as file:\n",
    "   pickle.dump(pipe_execution_lgd, file)"
   ]
  }
 ],
 "metadata": {
  "kernelspec": {
   "display_name": "Python 3 (ipykernel)",
   "language": "python",
   "name": "python3"
  },
  "language_info": {
   "codemirror_mode": {
    "name": "ipython",
    "version": 3
   },
   "file_extension": ".py",
   "mimetype": "text/x-python",
   "name": "python",
   "nbconvert_exporter": "python",
   "pygments_lexer": "ipython3",
   "version": "3.10.8"
  },
  "toc": {
   "base_numbering": 1,
   "nav_menu": {},
   "number_sections": true,
   "sideBar": true,
   "skip_h1_title": false,
   "title_cell": "Table of Contents",
   "title_sidebar": "Contents",
   "toc_cell": false,
   "toc_position": {
    "height": "calc(100% - 180px)",
    "left": "10px",
    "top": "150px",
    "width": "383.367px"
   },
   "toc_section_display": true,
   "toc_window_display": true
  },
  "varInspector": {
   "cols": {
    "lenName": 16,
    "lenType": 16,
    "lenVar": 40
   },
   "kernels_config": {
    "python": {
     "delete_cmd_postfix": "",
     "delete_cmd_prefix": "del ",
     "library": "var_list.py",
     "varRefreshCmd": "print(var_dic_list())"
    },
    "r": {
     "delete_cmd_postfix": ") ",
     "delete_cmd_prefix": "rm(",
     "library": "var_list.r",
     "varRefreshCmd": "cat(var_dic_list()) "
    }
   },
   "position": {
    "height": "437.85px",
    "left": "1550px",
    "right": "20px",
    "top": "120px",
    "width": "350px"
   },
   "types_to_exclude": [
    "module",
    "function",
    "builtin_function_or_method",
    "instance",
    "_Feature"
   ],
   "window_display": false
  }
 },
 "nbformat": 4,
 "nbformat_minor": 5
}
