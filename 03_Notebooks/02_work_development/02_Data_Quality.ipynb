{
 "cells": [
  {
   "cell_type": "markdown",
   "id": "d31dea65",
   "metadata": {},
   "source": [
    "# DATA QUALITY"
   ]
  },
  {
   "cell_type": "code",
   "execution_count": 99,
   "id": "adjacent-toddler",
   "metadata": {},
   "outputs": [],
   "source": [
    "import numpy as np\n",
    "import pandas as pd\n",
    "from janitor import clean_names\n",
    "import seaborn as sns\n",
    "import matplotlib.pyplot as plt\n",
    "%config IPCompleter.greedy=True\n",
    "pd.options.display.float_format = '{:,.2f}'.format"
   ]
  },
  {
   "cell_type": "markdown",
   "id": "graduate-compensation",
   "metadata": {},
   "source": [
    "## UPLOAD DATASET"
   ]
  },
  {
   "cell_type": "code",
   "execution_count": 100,
   "id": "28c63848",
   "metadata": {},
   "outputs": [],
   "source": [
    "path ='../../'"
   ]
  },
  {
   "cell_type": "code",
   "execution_count": 101,
   "id": "5d9dc5ea",
   "metadata": {},
   "outputs": [],
   "source": [
    "name_data_file = 'work.csv'"
   ]
  },
  {
   "cell_type": "code",
   "execution_count": 102,
   "id": "24ff453b",
   "metadata": {},
   "outputs": [
    {
     "data": {
      "text/html": [
       "<div>\n",
       "<style scoped>\n",
       "    .dataframe tbody tr th:only-of-type {\n",
       "        vertical-align: middle;\n",
       "    }\n",
       "\n",
       "    .dataframe tbody tr th {\n",
       "        vertical-align: top;\n",
       "    }\n",
       "\n",
       "    .dataframe thead th {\n",
       "        text-align: right;\n",
       "    }\n",
       "</style>\n",
       "<table border=\"1\" class=\"dataframe\">\n",
       "  <thead>\n",
       "    <tr style=\"text-align: right;\">\n",
       "      <th></th>\n",
       "      <th>Unnamed: 0</th>\n",
       "      <th>empleo</th>\n",
       "      <th>antigüedad_empleo</th>\n",
       "      <th>ingresos</th>\n",
       "      <th>ingresos_verificados</th>\n",
       "      <th>rating</th>\n",
       "      <th>dti</th>\n",
       "      <th>vivienda</th>\n",
       "      <th>num_hipotecas</th>\n",
       "      <th>num_lineas_credito</th>\n",
       "      <th>...</th>\n",
       "      <th>id_prestamo</th>\n",
       "      <th>descripcion</th>\n",
       "      <th>finalidad</th>\n",
       "      <th>principal</th>\n",
       "      <th>tipo_interes</th>\n",
       "      <th>num_cuotas</th>\n",
       "      <th>imp_cuota</th>\n",
       "      <th>imp_amortizado</th>\n",
       "      <th>estado</th>\n",
       "      <th>imp_recuperado</th>\n",
       "    </tr>\n",
       "    <tr>\n",
       "      <th>id_cliente</th>\n",
       "      <th></th>\n",
       "      <th></th>\n",
       "      <th></th>\n",
       "      <th></th>\n",
       "      <th></th>\n",
       "      <th></th>\n",
       "      <th></th>\n",
       "      <th></th>\n",
       "      <th></th>\n",
       "      <th></th>\n",
       "      <th></th>\n",
       "      <th></th>\n",
       "      <th></th>\n",
       "      <th></th>\n",
       "      <th></th>\n",
       "      <th></th>\n",
       "      <th></th>\n",
       "      <th></th>\n",
       "      <th></th>\n",
       "      <th></th>\n",
       "      <th></th>\n",
       "    </tr>\n",
       "  </thead>\n",
       "  <tbody>\n",
       "    <tr>\n",
       "      <th>137387967</th>\n",
       "      <td>0</td>\n",
       "      <td>Hvac technician</td>\n",
       "      <td>3 years</td>\n",
       "      <td>54,000.00</td>\n",
       "      <td>Source Verified</td>\n",
       "      <td>A</td>\n",
       "      <td>19.31</td>\n",
       "      <td>MORTGAGE</td>\n",
       "      <td>2.00</td>\n",
       "      <td>10.00</td>\n",
       "      <td>...</td>\n",
       "      <td>NaN</td>\n",
       "      <td>NaN</td>\n",
       "      <td>debt_consolidation</td>\n",
       "      <td>15,000.00</td>\n",
       "      <td>7.21</td>\n",
       "      <td>36 months</td>\n",
       "      <td>464.60</td>\n",
       "      <td>2,669.06</td>\n",
       "      <td>Current</td>\n",
       "      <td>0.00</td>\n",
       "    </tr>\n",
       "    <tr>\n",
       "      <th>4798121</th>\n",
       "      <td>1</td>\n",
       "      <td>Target Promotions and Marketing,Inc</td>\n",
       "      <td>10+ years</td>\n",
       "      <td>65,000.00</td>\n",
       "      <td>Not Verified</td>\n",
       "      <td>D</td>\n",
       "      <td>25.40</td>\n",
       "      <td>RENT</td>\n",
       "      <td>1.00</td>\n",
       "      <td>15.00</td>\n",
       "      <td>...</td>\n",
       "      <td>NaN</td>\n",
       "      <td>NaN</td>\n",
       "      <td>debt_consolidation</td>\n",
       "      <td>10,000.00</td>\n",
       "      <td>17.77</td>\n",
       "      <td>36 months</td>\n",
       "      <td>360.38</td>\n",
       "      <td>6,362.96</td>\n",
       "      <td>Charged Off</td>\n",
       "      <td>0.00</td>\n",
       "    </tr>\n",
       "    <tr>\n",
       "      <th>87998444</th>\n",
       "      <td>3</td>\n",
       "      <td>executive director</td>\n",
       "      <td>9 years</td>\n",
       "      <td>188,000.00</td>\n",
       "      <td>Source Verified</td>\n",
       "      <td>B</td>\n",
       "      <td>11.69</td>\n",
       "      <td>MORTGAGE</td>\n",
       "      <td>3.00</td>\n",
       "      <td>15.00</td>\n",
       "      <td>...</td>\n",
       "      <td>NaN</td>\n",
       "      <td>NaN</td>\n",
       "      <td>credit_card</td>\n",
       "      <td>27,000.00</td>\n",
       "      <td>8.99</td>\n",
       "      <td>60 months</td>\n",
       "      <td>560.35</td>\n",
       "      <td>12,443.00</td>\n",
       "      <td>Current</td>\n",
       "      <td>0.00</td>\n",
       "    </tr>\n",
       "    <tr>\n",
       "      <th>103448519</th>\n",
       "      <td>7</td>\n",
       "      <td>Web site administrator</td>\n",
       "      <td>10+ years</td>\n",
       "      <td>99,800.00</td>\n",
       "      <td>Not Verified</td>\n",
       "      <td>A</td>\n",
       "      <td>9.69</td>\n",
       "      <td>MORTGAGE</td>\n",
       "      <td>0.00</td>\n",
       "      <td>8.00</td>\n",
       "      <td>...</td>\n",
       "      <td>NaN</td>\n",
       "      <td>NaN</td>\n",
       "      <td>credit_card</td>\n",
       "      <td>9,600.00</td>\n",
       "      <td>5.32</td>\n",
       "      <td>36 months</td>\n",
       "      <td>289.11</td>\n",
       "      <td>6,228.92</td>\n",
       "      <td>Current</td>\n",
       "      <td>0.00</td>\n",
       "    </tr>\n",
       "    <tr>\n",
       "      <th>61349005</th>\n",
       "      <td>8</td>\n",
       "      <td>test operator</td>\n",
       "      <td>10+ years</td>\n",
       "      <td>60,000.00</td>\n",
       "      <td>Source Verified</td>\n",
       "      <td>C</td>\n",
       "      <td>20.22</td>\n",
       "      <td>MORTGAGE</td>\n",
       "      <td>1.00</td>\n",
       "      <td>10.00</td>\n",
       "      <td>...</td>\n",
       "      <td>NaN</td>\n",
       "      <td>NaN</td>\n",
       "      <td>credit_card</td>\n",
       "      <td>22,800.00</td>\n",
       "      <td>13.99</td>\n",
       "      <td>60 months</td>\n",
       "      <td>530.40</td>\n",
       "      <td>19,036.21</td>\n",
       "      <td>Charged Off</td>\n",
       "      <td>1,193.00</td>\n",
       "    </tr>\n",
       "    <tr>\n",
       "      <th>...</th>\n",
       "      <td>...</td>\n",
       "      <td>...</td>\n",
       "      <td>...</td>\n",
       "      <td>...</td>\n",
       "      <td>...</td>\n",
       "      <td>...</td>\n",
       "      <td>...</td>\n",
       "      <td>...</td>\n",
       "      <td>...</td>\n",
       "      <td>...</td>\n",
       "      <td>...</td>\n",
       "      <td>...</td>\n",
       "      <td>...</td>\n",
       "      <td>...</td>\n",
       "      <td>...</td>\n",
       "      <td>...</td>\n",
       "      <td>...</td>\n",
       "      <td>...</td>\n",
       "      <td>...</td>\n",
       "      <td>...</td>\n",
       "      <td>...</td>\n",
       "    </tr>\n",
       "    <tr>\n",
       "      <th>129396054</th>\n",
       "      <td>199993</td>\n",
       "      <td>Field Manager</td>\n",
       "      <td>10+ years</td>\n",
       "      <td>55,000.00</td>\n",
       "      <td>Source Verified</td>\n",
       "      <td>D</td>\n",
       "      <td>15.36</td>\n",
       "      <td>OWN</td>\n",
       "      <td>1.00</td>\n",
       "      <td>7.00</td>\n",
       "      <td>...</td>\n",
       "      <td>NaN</td>\n",
       "      <td>NaN</td>\n",
       "      <td>debt_consolidation</td>\n",
       "      <td>14,400.00</td>\n",
       "      <td>17.47</td>\n",
       "      <td>60 months</td>\n",
       "      <td>361.53</td>\n",
       "      <td>1,975.94</td>\n",
       "      <td>Current</td>\n",
       "      <td>0.00</td>\n",
       "    </tr>\n",
       "    <tr>\n",
       "      <th>119242742</th>\n",
       "      <td>199994</td>\n",
       "      <td>NaN</td>\n",
       "      <td>NaN</td>\n",
       "      <td>20,000.00</td>\n",
       "      <td>Source Verified</td>\n",
       "      <td>C</td>\n",
       "      <td>8.02</td>\n",
       "      <td>RENT</td>\n",
       "      <td>0.00</td>\n",
       "      <td>5.00</td>\n",
       "      <td>...</td>\n",
       "      <td>NaN</td>\n",
       "      <td>NaN</td>\n",
       "      <td>debt_consolidation</td>\n",
       "      <td>2,500.00</td>\n",
       "      <td>12.62</td>\n",
       "      <td>36 months</td>\n",
       "      <td>83.78</td>\n",
       "      <td>996.06</td>\n",
       "      <td>Late (31-120 days)</td>\n",
       "      <td>0.00</td>\n",
       "    </tr>\n",
       "    <tr>\n",
       "      <th>121031962</th>\n",
       "      <td>199996</td>\n",
       "      <td>Owner &amp; President</td>\n",
       "      <td>6 years</td>\n",
       "      <td>111,697.00</td>\n",
       "      <td>Verified</td>\n",
       "      <td>B</td>\n",
       "      <td>16.63</td>\n",
       "      <td>MORTGAGE</td>\n",
       "      <td>2.00</td>\n",
       "      <td>10.00</td>\n",
       "      <td>...</td>\n",
       "      <td>NaN</td>\n",
       "      <td>NaN</td>\n",
       "      <td>other</td>\n",
       "      <td>10,000.00</td>\n",
       "      <td>9.44</td>\n",
       "      <td>36 months</td>\n",
       "      <td>320.05</td>\n",
       "      <td>4,388.51</td>\n",
       "      <td>Current</td>\n",
       "      <td>0.00</td>\n",
       "    </tr>\n",
       "    <tr>\n",
       "      <th>135641397</th>\n",
       "      <td>199997</td>\n",
       "      <td>Sr. Field Engineer</td>\n",
       "      <td>10+ years</td>\n",
       "      <td>285,000.00</td>\n",
       "      <td>Source Verified</td>\n",
       "      <td>D</td>\n",
       "      <td>6.02</td>\n",
       "      <td>MORTGAGE</td>\n",
       "      <td>3.00</td>\n",
       "      <td>9.00</td>\n",
       "      <td>...</td>\n",
       "      <td>NaN</td>\n",
       "      <td>NaN</td>\n",
       "      <td>small_business</td>\n",
       "      <td>30,000.00</td>\n",
       "      <td>17.47</td>\n",
       "      <td>36 months</td>\n",
       "      <td>1,076.62</td>\n",
       "      <td>5,387.53</td>\n",
       "      <td>Current</td>\n",
       "      <td>0.00</td>\n",
       "    </tr>\n",
       "    <tr>\n",
       "      <th>53664762</th>\n",
       "      <td>199998</td>\n",
       "      <td>Attorney</td>\n",
       "      <td>8 years</td>\n",
       "      <td>168,000.00</td>\n",
       "      <td>Source Verified</td>\n",
       "      <td>E</td>\n",
       "      <td>4.69</td>\n",
       "      <td>RENT</td>\n",
       "      <td>0.00</td>\n",
       "      <td>8.00</td>\n",
       "      <td>...</td>\n",
       "      <td>NaN</td>\n",
       "      <td>NaN</td>\n",
       "      <td>small_business</td>\n",
       "      <td>30,050.00</td>\n",
       "      <td>18.25</td>\n",
       "      <td>60 months</td>\n",
       "      <td>767.17</td>\n",
       "      <td>2,964.44</td>\n",
       "      <td>Charged Off</td>\n",
       "      <td>2,750.88</td>\n",
       "    </tr>\n",
       "  </tbody>\n",
       "</table>\n",
       "<p>140000 rows × 25 columns</p>\n",
       "</div>"
      ],
      "text/plain": [
       "            Unnamed: 0                               empleo antigüedad_empleo  \\\n",
       "id_cliente                                                                      \n",
       "137387967            0                     Hvac technician            3 years   \n",
       "4798121              1  Target Promotions and Marketing,Inc         10+ years   \n",
       "87998444             3                   executive director           9 years   \n",
       "103448519            7              Web site administrator          10+ years   \n",
       "61349005             8                        test operator         10+ years   \n",
       "...                ...                                  ...               ...   \n",
       "129396054       199993                        Field Manager         10+ years   \n",
       "119242742       199994                                  NaN               NaN   \n",
       "121031962       199996                    Owner & President           6 years   \n",
       "135641397       199997                   Sr. Field Engineer         10+ years   \n",
       "53664762        199998                             Attorney           8 years   \n",
       "\n",
       "             ingresos ingresos_verificados rating   dti  vivienda  \\\n",
       "id_cliente                                                          \n",
       "137387967   54,000.00      Source Verified      A 19.31  MORTGAGE   \n",
       "4798121     65,000.00         Not Verified      D 25.40      RENT   \n",
       "87998444   188,000.00      Source Verified      B 11.69  MORTGAGE   \n",
       "103448519   99,800.00         Not Verified      A  9.69  MORTGAGE   \n",
       "61349005    60,000.00      Source Verified      C 20.22  MORTGAGE   \n",
       "...               ...                  ...    ...   ...       ...   \n",
       "129396054   55,000.00      Source Verified      D 15.36       OWN   \n",
       "119242742   20,000.00      Source Verified      C  8.02      RENT   \n",
       "121031962  111,697.00             Verified      B 16.63  MORTGAGE   \n",
       "135641397  285,000.00      Source Verified      D  6.02  MORTGAGE   \n",
       "53664762   168,000.00      Source Verified      E  4.69      RENT   \n",
       "\n",
       "            num_hipotecas  num_lineas_credito  ...  id_prestamo  descripcion  \\\n",
       "id_cliente                                     ...                             \n",
       "137387967            2.00               10.00  ...          NaN          NaN   \n",
       "4798121              1.00               15.00  ...          NaN          NaN   \n",
       "87998444             3.00               15.00  ...          NaN          NaN   \n",
       "103448519            0.00                8.00  ...          NaN          NaN   \n",
       "61349005             1.00               10.00  ...          NaN          NaN   \n",
       "...                   ...                 ...  ...          ...          ...   \n",
       "129396054            1.00                7.00  ...          NaN          NaN   \n",
       "119242742            0.00                5.00  ...          NaN          NaN   \n",
       "121031962            2.00               10.00  ...          NaN          NaN   \n",
       "135641397            3.00                9.00  ...          NaN          NaN   \n",
       "53664762             0.00                8.00  ...          NaN          NaN   \n",
       "\n",
       "                     finalidad  principal  tipo_interes  num_cuotas imp_cuota  \\\n",
       "id_cliente                                                                      \n",
       "137387967   debt_consolidation  15,000.00          7.21   36 months    464.60   \n",
       "4798121     debt_consolidation  10,000.00         17.77   36 months    360.38   \n",
       "87998444           credit_card  27,000.00          8.99   60 months    560.35   \n",
       "103448519          credit_card   9,600.00          5.32   36 months    289.11   \n",
       "61349005           credit_card  22,800.00         13.99   60 months    530.40   \n",
       "...                        ...        ...           ...         ...       ...   \n",
       "129396054   debt_consolidation  14,400.00         17.47   60 months    361.53   \n",
       "119242742   debt_consolidation   2,500.00         12.62   36 months     83.78   \n",
       "121031962                other  10,000.00          9.44   36 months    320.05   \n",
       "135641397       small_business  30,000.00         17.47   36 months  1,076.62   \n",
       "53664762        small_business  30,050.00         18.25   60 months    767.17   \n",
       "\n",
       "           imp_amortizado              estado  imp_recuperado  \n",
       "id_cliente                                                     \n",
       "137387967        2,669.06             Current            0.00  \n",
       "4798121          6,362.96         Charged Off            0.00  \n",
       "87998444        12,443.00             Current            0.00  \n",
       "103448519        6,228.92             Current            0.00  \n",
       "61349005        19,036.21         Charged Off        1,193.00  \n",
       "...                   ...                 ...             ...  \n",
       "129396054        1,975.94             Current            0.00  \n",
       "119242742          996.06  Late (31-120 days)            0.00  \n",
       "121031962        4,388.51             Current            0.00  \n",
       "135641397        5,387.53             Current            0.00  \n",
       "53664762         2,964.44         Charged Off        2,750.88  \n",
       "\n",
       "[140000 rows x 25 columns]"
      ]
     },
     "execution_count": 102,
     "metadata": {},
     "output_type": "execute_result"
    }
   ],
   "source": [
    "full_path = path + '/02_Data/03_Work/' + name_data_file\n",
    "\n",
    "df = pd.read_csv(full_path,index_col='id_cliente')\n",
    "df"
   ]
  },
  {
   "cell_type": "markdown",
   "id": "d2d5443c",
   "metadata": {},
   "source": [
    "## OVERVIEW"
   ]
  },
  {
   "cell_type": "code",
   "execution_count": 103,
   "id": "976c8ac6",
   "metadata": {
    "scrolled": false
   },
   "outputs": [
    {
     "name": "stdout",
     "output_type": "stream",
     "text": [
      "<class 'pandas.core.frame.DataFrame'>\n",
      "Int64Index: 140000 entries, 137387967 to 53664762\n",
      "Data columns (total 25 columns):\n",
      " #   Column                       Non-Null Count   Dtype  \n",
      "---  ------                       --------------   -----  \n",
      " 0   Unnamed: 0                   140000 non-null  int64  \n",
      " 1   empleo                       129783 non-null  object \n",
      " 2   antigüedad_empleo            131068 non-null  object \n",
      " 3   ingresos                     140000 non-null  float64\n",
      " 4   ingresos_verificados         140000 non-null  object \n",
      " 5   rating                       140000 non-null  object \n",
      " 6   dti                          139895 non-null  float64\n",
      " 7   vivienda                     140000 non-null  object \n",
      " 8   num_hipotecas                136911 non-null  float64\n",
      " 9   num_lineas_credito           139997 non-null  float64\n",
      " 10  porc_tarjetas_75p            135331 non-null  float64\n",
      " 11  porc_uso_revolving           139892 non-null  float64\n",
      " 12  num_cancelaciones_12meses    139989 non-null  float64\n",
      " 13  num_derogatorios             139997 non-null  float64\n",
      " 14  num_meses_desde_ult_retraso  68070 non-null   float64\n",
      " 15  id_prestamo                  0 non-null       float64\n",
      " 16  descripcion                  7758 non-null    object \n",
      " 17  finalidad                    140000 non-null  object \n",
      " 18  principal                    140000 non-null  float64\n",
      " 19  tipo_interes                 140000 non-null  float64\n",
      " 20  num_cuotas                   140000 non-null  object \n",
      " 21  imp_cuota                    140000 non-null  float64\n",
      " 22  imp_amortizado               140000 non-null  float64\n",
      " 23  estado                       140000 non-null  object \n",
      " 24  imp_recuperado               140000 non-null  float64\n",
      "dtypes: float64(15), int64(1), object(9)\n",
      "memory usage: 27.8+ MB\n"
     ]
    }
   ],
   "source": [
    "df.info()"
   ]
  },
  {
   "cell_type": "markdown",
   "id": "60d395d5",
   "metadata": {},
   "source": [
    "### Drop Unnamed: 0m"
   ]
  },
  {
   "cell_type": "code",
   "execution_count": 104,
   "id": "94cccc38",
   "metadata": {},
   "outputs": [],
   "source": [
    "df.drop(columns='Unnamed: 0',inplace=True)"
   ]
  },
  {
   "cell_type": "markdown",
   "id": "158ee1d7",
   "metadata": {},
   "source": [
    "## DATA TYPES"
   ]
  },
  {
   "cell_type": "code",
   "execution_count": 105,
   "id": "197a99c2",
   "metadata": {
    "scrolled": false
   },
   "outputs": [
    {
     "data": {
      "text/plain": [
       "empleo                          object\n",
       "antigüedad_empleo               object\n",
       "ingresos                       float64\n",
       "ingresos_verificados            object\n",
       "rating                          object\n",
       "dti                            float64\n",
       "vivienda                        object\n",
       "num_hipotecas                  float64\n",
       "num_lineas_credito             float64\n",
       "porc_tarjetas_75p              float64\n",
       "porc_uso_revolving             float64\n",
       "num_cancelaciones_12meses      float64\n",
       "num_derogatorios               float64\n",
       "num_meses_desde_ult_retraso    float64\n",
       "id_prestamo                    float64\n",
       "descripcion                     object\n",
       "finalidad                       object\n",
       "principal                      float64\n",
       "tipo_interes                   float64\n",
       "num_cuotas                      object\n",
       "imp_cuota                      float64\n",
       "imp_amortizado                 float64\n",
       "estado                          object\n",
       "imp_recuperado                 float64\n",
       "dtype: object"
      ]
     },
     "execution_count": 105,
     "metadata": {},
     "output_type": "execute_result"
    }
   ],
   "source": [
    "df.dtypes"
   ]
  },
  {
   "cell_type": "markdown",
   "id": "cc8d4a22",
   "metadata": {},
   "source": [
    "## UNIQUE VALUES"
   ]
  },
  {
   "cell_type": "code",
   "execution_count": 106,
   "id": "6e53e444",
   "metadata": {
    "scrolled": true
   },
   "outputs": [
    {
     "data": {
      "text/plain": [
       "id_prestamo                        0\n",
       "num_cuotas                         2\n",
       "ingresos_verificados               3\n",
       "num_cancelaciones_12meses          6\n",
       "vivienda                           6\n",
       "rating                             7\n",
       "estado                             9\n",
       "antigüedad_empleo                 11\n",
       "finalidad                         14\n",
       "num_derogatorios                  20\n",
       "num_hipotecas                     25\n",
       "num_lineas_credito                63\n",
       "num_meses_desde_ult_retraso      131\n",
       "porc_tarjetas_75p                167\n",
       "tipo_interes                     581\n",
       "porc_uso_revolving              1108\n",
       "principal                       1469\n",
       "dti                             5313\n",
       "descripcion                     7735\n",
       "imp_recuperado                 10607\n",
       "ingresos                       11683\n",
       "imp_cuota                      33622\n",
       "empleo                         54470\n",
       "imp_amortizado                 57600\n",
       "dtype: int64"
      ]
     },
     "execution_count": 106,
     "metadata": {},
     "output_type": "execute_result"
    }
   ],
   "source": [
    "df.nunique().sort_values()"
   ]
  },
  {
   "cell_type": "markdown",
   "id": "a1106594",
   "metadata": {},
   "source": [
    "Conclusion:\n",
    "\n",
    "* id_prestamo with less than 2 values --> drop"
   ]
  },
  {
   "cell_type": "code",
   "execution_count": 107,
   "id": "62f7d14e",
   "metadata": {},
   "outputs": [],
   "source": [
    "df.drop(columns = 'id_prestamo', inplace = True)"
   ]
  },
  {
   "cell_type": "markdown",
   "id": "e25cfc89",
   "metadata": {},
   "source": [
    "## DUPLICARED"
   ]
  },
  {
   "cell_type": "code",
   "execution_count": 108,
   "id": "f5b23bfc",
   "metadata": {
    "scrolled": true
   },
   "outputs": [
    {
     "data": {
      "text/plain": [
       "0"
      ]
     },
     "execution_count": 108,
     "metadata": {},
     "output_type": "execute_result"
    }
   ],
   "source": [
    "df.duplicated().sum()"
   ]
  },
  {
   "cell_type": "markdown",
   "id": "632ec2cd",
   "metadata": {},
   "source": [
    "## PULL APART NUMERICAL AND CATEGORICAL"
   ]
  },
  {
   "cell_type": "markdown",
   "id": "573a61ac",
   "metadata": {},
   "source": [
    "### Categorical"
   ]
  },
  {
   "cell_type": "code",
   "execution_count": 109,
   "id": "47a7eece",
   "metadata": {},
   "outputs": [],
   "source": [
    "cat = df.select_dtypes(exclude = 'number').copy()"
   ]
  },
  {
   "cell_type": "markdown",
   "id": "41756893",
   "metadata": {},
   "source": [
    "### Numerical"
   ]
  },
  {
   "cell_type": "code",
   "execution_count": 110,
   "id": "59140e9a",
   "metadata": {},
   "outputs": [],
   "source": [
    "num = df.select_dtypes(include='number').copy()"
   ]
  },
  {
   "cell_type": "markdown",
   "id": "5e7d8e7e",
   "metadata": {},
   "source": [
    "## CATEGORICAL MANAGMENT"
   ]
  },
  {
   "cell_type": "markdown",
   "id": "5b5808b7",
   "metadata": {},
   "source": [
    "### Nulls"
   ]
  },
  {
   "cell_type": "code",
   "execution_count": 111,
   "id": "da49ae63",
   "metadata": {
    "scrolled": true
   },
   "outputs": [
    {
     "data": {
      "text/plain": [
       "descripcion             132242\n",
       "empleo                   10217\n",
       "antigüedad_empleo         8932\n",
       "ingresos_verificados         0\n",
       "rating                       0\n",
       "vivienda                     0\n",
       "finalidad                    0\n",
       "num_cuotas                   0\n",
       "estado                       0\n",
       "dtype: int64"
      ]
     },
     "execution_count": 111,
     "metadata": {},
     "output_type": "execute_result"
    }
   ],
   "source": [
    "cat.isna().sum().sort_values(ascending = False)"
   ]
  },
  {
   "cell_type": "code",
   "execution_count": 112,
   "id": "b95992ce",
   "metadata": {},
   "outputs": [
    {
     "data": {
      "text/plain": [
       "NaN                                                                                                                                                                                                                                                                                                                                                                                                                                                                                                                                                                                                                                                                                                                                                                                                                                                                                                                                                                                                                                                                                                                                                                                                                                                                                                                                                                                                                                                                                                                                                                                                                                                                                                                                                                                                                                             132242\n",
       "                                                                                                                                                                                                                                                                                                                                                                                                                                                                                                                                                                                                                                                                                                                                                                                                                                                                                                                                                                                                                                                                                                                                                                                                                                                                                                                                                                                                                                                                                                                                                                                                                                                                                                                                                                                                                                                    13\n",
       "  Borrower added on 10/07/13 > Debt consolidation<br>                                                                                                                                                                                                                                                                                                                                                                                                                                                                                                                                                                                                                                                                                                                                                                                                                                                                                                                                                                                                                                                                                                                                                                                                                                                                                                                                                                                                                                                                                                                                                                                                                                                                                                                                                                                                2\n",
       "  Borrower added on 05/21/13 > Debt consolidation<br>                                                                                                                                                                                                                                                                                                                                                                                                                                                                                                                                                                                                                                                                                                                                                                                                                                                                                                                                                                                                                                                                                                                                                                                                                                                                                                                                                                                                                                                                                                                                                                                                                                                                                                                                                                                                2\n",
       "Debt Consolidation                                                                                                                                                                                                                                                                                                                                                                                                                                                                                                                                                                                                                                                                                                                                                                                                                                                                                                                                                                                                                                                                                                                                                                                                                                                                                                                                                                                                                                                                                                                                                                                                                                                                                                                                                                                                                                   2\n",
       "                                                                                                                                                                                                                                                                                                                                                                                                                                                                                                                                                                                                                                                                                                                                                                                                                                                                                                                                                                                                                                                                                                                                                                                                                                                                                                                                                                                                                                                                                                                                                                                                                                                                                                                                                                                                                                                 ...  \n",
       "Business Expansion Funds:  We have a successful, six year old retail tax business that is ready for new expansion.  We are seeking a small bridge loan to allow us to expand our market by adding a second location.  We offer retail tax preparation services for low to mid income customers in fast growing county covering over 600 square miles.  The business was founded in 2002 and was cash flow positive from the start.   Since opening we have prepared returns for more than 3,500 customers.    This is a recession proof business.  Every year more people file their taxes with a paid preparer and we are looking to broaden our customer base with an additional office location.    The requested funds will be used for working capital â office rent, utilities, advertising, etc., and build out of a new office.   With this expansion we will capture a larger market share.  County growth is extremely fast, and the growth opportunity for the business is excellent.    We have worked hard to maintain a perfect payment record on both personal and business credit. Our business credit is strong with an 80 Paydex from D&B, and a 90+ Credit score from Experian.  We are willing to accept a higher interest rate to ensure we are able to continue our growth in the current lending environment.  Feel free to email me if you have any questions or concerns.     Terry                                                                                                                                                                                                                                                                                                                                                                                                                                       1\n",
       "  Borrower added on 02/12/13 > This loan is for consolidating my high interest credit card debt most of which was used for paying the tutions for my masters degree. I now have a very well paid job. Thank you all for helping me by making it easier to clear my debt. I assure you all that i will make all my payments on time.<br>                                                                                                                                                                                                                                                                                                                                                                                                                                                                                                                                                                                                                                                                                                                                                                                                                                                                                                                                                                                                                                                                                                                                                                                                                                                                                                                                                                                                                                                                                                              1\n",
       "  Borrower added on 08/20/12 > to consolidate crediit card debts an small bills fix some home repairs .<br><br>  Borrower added on 08/20/12 > i always pay on time never late.  my monthly budget is1347. per month   my job is stable<br>                                                                                                                                                                                                                                                                                                                                                                                                                                                                                                                                                                                                                                                                                                                                                                                                                                                                                                                                                                                                                                                                                                                                                                                                                                                                                                                                                                                                                                                                                                                                                                                                           1\n",
       "  Borrower added on 01/11/10 > I am a 28-year old Advertising Professional residing in New York City.  I've accumulated about $10,000 of debt in the past several years, some of which originated from college and some of which was necessary to make a living in this expensive city.  I would like to pay off my credit cards as soon as possible and clear all debts before I am 30.  It's a major milestone for me, but I am confident that once my debts are paid, I can start saving for a home.  While I have this debt, I am very responsible, have been making more than my monthly minimum payments on all credit cards, pay my rent on time every month, etc.  It's just this lingering credit card debt with high APRs that adds stress.  I would pay more than the monthly payments listed by lendingclub.<br/><br/>I appreciate your time and consideration.  Thanks so much.<br/> Borrower added on 01/11/10 > I'm a 28 year old Advertising professional residing in NYC.  I've set a major goal of clearing all debts before I'm 30.  Currently, I have approximately $10,000 in credit card debt, some of which originated from college and most of which stemmed from making a living in NYC when I first began my career.<br/><br/>I am very responsible in terms of ensuring all monthly bills are paid in a timely manner including rent, credit cards, etc.<br/><br/>My monthly budget after all living expenses is approximately $2,500, so I'm in good shape to pay more than the minimum monthly payments estimated by lendingclub.<br/><br/>As far as employment, I have excellent job stability and this can be confirmed by my employer if necessary.<br/><br/>I greatly appreciate your time and consideration, and hope to develop a mutually beneficial financial relationship.<br/><br/>Thanks again.<br/>         1\n",
       "  Borrower added on 01/13/10 > Steady job required degree and experience for me and my wife. Combined we gross 135,000/year we are able to pay this loan back with no discrepencies.<br/>                                                                                                                                                                                                                                                                                                                                                                                                                                                                                                                                                                                                                                                                                                                                                                                                                                                                                                                                                                                                                                                                                                                                                                                                                                                                                                                                                                                                                                                                                                                                                                                                                                                            1\n",
       "Name: descripcion, Length: 7736, dtype: int64"
      ]
     },
     "execution_count": 112,
     "metadata": {},
     "output_type": "execute_result"
    }
   ],
   "source": [
    "cat.descripcion.value_counts(dropna=False)"
   ]
  },
  {
   "cell_type": "code",
   "execution_count": 113,
   "id": "d3b9f1e7",
   "metadata": {},
   "outputs": [
    {
     "data": {
      "text/plain": [
       "NaN                       10217\n",
       "Teacher                    2478\n",
       "Manager                    2188\n",
       "Owner                      1344\n",
       "Registered Nurse           1004\n",
       "                          ...  \n",
       "Housing Assistant             1\n",
       "Department of dedfense        1\n",
       "Bell BCI                      1\n",
       "Sr research associate         1\n",
       "Sr. Field Engineer            1\n",
       "Name: empleo, Length: 54471, dtype: int64"
      ]
     },
     "execution_count": 113,
     "metadata": {},
     "output_type": "execute_result"
    }
   ],
   "source": [
    "cat.empleo.value_counts(dropna=False)"
   ]
  },
  {
   "cell_type": "code",
   "execution_count": 114,
   "id": "cac1218b",
   "metadata": {},
   "outputs": [
    {
     "data": {
      "text/plain": [
       "10+ years    46228\n",
       "2 years      12599\n",
       "< 1 year     11718\n",
       "3 years      11277\n",
       "1 year        9182\n",
       "NaN           8932\n",
       "5 years       8706\n",
       "4 years       8435\n",
       "6 years       6371\n",
       "7 years       5839\n",
       "8 years       5762\n",
       "9 years       4951\n",
       "Name: antigüedad_empleo, dtype: int64"
      ]
     },
     "execution_count": 114,
     "metadata": {},
     "output_type": "execute_result"
    }
   ],
   "source": [
    "cat.antigüedad_empleo.value_counts(dropna=False)"
   ]
  },
  {
   "cell_type": "markdown",
   "id": "45ca2193",
   "metadata": {},
   "source": [
    "* Change everything by 'anknown'"
   ]
  },
  {
   "cell_type": "markdown",
   "id": "ebeb52a6",
   "metadata": {},
   "source": [
    "##### Imputq by value"
   ]
  },
  {
   "cell_type": "code",
   "execution_count": 115,
   "id": "4050ef9f",
   "metadata": {},
   "outputs": [],
   "source": [
    "var_impute_anknown = ['descripcion','empleo','antigüedad_empleo']"
   ]
  },
  {
   "cell_type": "code",
   "execution_count": 116,
   "id": "f16e8491",
   "metadata": {},
   "outputs": [],
   "source": [
    "cat[var_impute_anknown] = cat[var_impute_anknown].fillna('anknown')"
   ]
  },
  {
   "cell_type": "markdown",
   "id": "db3a72a6",
   "metadata": {},
   "source": [
    "## NUMERICAL MANAGMENT"
   ]
  },
  {
   "cell_type": "markdown",
   "id": "d65bd06a",
   "metadata": {},
   "source": [
    "### Nulls"
   ]
  },
  {
   "cell_type": "code",
   "execution_count": 117,
   "id": "c9f054a3",
   "metadata": {
    "scrolled": true
   },
   "outputs": [
    {
     "data": {
      "text/plain": [
       "num_meses_desde_ult_retraso    71930\n",
       "porc_tarjetas_75p               4669\n",
       "num_hipotecas                   3089\n",
       "porc_uso_revolving               108\n",
       "dti                              105\n",
       "num_cancelaciones_12meses         11\n",
       "num_lineas_credito                 3\n",
       "num_derogatorios                   3\n",
       "ingresos                           0\n",
       "principal                          0\n",
       "tipo_interes                       0\n",
       "imp_cuota                          0\n",
       "imp_amortizado                     0\n",
       "imp_recuperado                     0\n",
       "dtype: int64"
      ]
     },
     "execution_count": 117,
     "metadata": {},
     "output_type": "execute_result"
    }
   ],
   "source": [
    "num.isna().sum().sort_values(ascending = False)"
   ]
  },
  {
   "cell_type": "markdown",
   "id": "a043a2e8",
   "metadata": {},
   "source": [
    "DETAIL"
   ]
  },
  {
   "cell_type": "code",
   "execution_count": 118,
   "id": "aa5112af",
   "metadata": {},
   "outputs": [
    {
     "data": {
      "text/plain": [
       "<AxesSubplot: >"
      ]
     },
     "execution_count": 118,
     "metadata": {},
     "output_type": "execute_result"
    },
    {
     "data": {
      "image/png": "[encoded data removed]",
      "text/plain": [
       "<Figure size 1200x600 with 1 Axes>"
      ]
     },
     "metadata": {},
     "output_type": "display_data"
    }
   ],
   "source": [
    "num.num_meses_desde_ult_retraso.value_counts().sort_index().plot.bar(figsize = (12,6))"
   ]
  },
  {
   "cell_type": "markdown",
   "id": "7e2ff55b",
   "metadata": {},
   "source": [
    "There are zeros, but they seem few for a variable involving delays.\n",
    "\n",
    "So let's think that nulls mean that there have been no delays.\n",
    "\n",
    "And therefore impute by zeros."
   ]
  },
  {
   "cell_type": "code",
   "execution_count": 119,
   "id": "2873ee93",
   "metadata": {},
   "outputs": [
    {
     "data": {
      "image/png": "[encoded data removed]",
      "text/plain": [
       "<Figure size 1200x600 with 1 Axes>"
      ]
     },
     "metadata": {},
     "output_type": "display_data"
    }
   ],
   "source": [
    "num.porc_tarjetas_75p.value_counts().sort_index().plot.bar(figsize = (12,6));"
   ]
  },
  {
   "cell_type": "markdown",
   "id": "1bff94a6",
   "metadata": {},
   "source": [
    "The majority category is zero.\n",
    "\n",
    "We will impute for zero."
   ]
  },
  {
   "cell_type": "code",
   "execution_count": 120,
   "id": "e0bb1a4a",
   "metadata": {},
   "outputs": [
    {
     "data": {
      "image/png": "[encoded data removed]",
      "text/plain": [
       "<Figure size 1200x600 with 1 Axes>"
      ]
     },
     "metadata": {},
     "output_type": "display_data"
    }
   ],
   "source": [
    "num.num_hipotecas.value_counts().sort_index().plot.bar(figsize = (12,6));"
   ]
  },
  {
   "cell_type": "markdown",
   "id": "d0269d6c",
   "metadata": {},
   "source": [
    "The majority category is zero.\n",
    "\n",
    "We will impute for zero."
   ]
  },
  {
   "cell_type": "code",
   "execution_count": 121,
   "id": "37d7e0d9",
   "metadata": {},
   "outputs": [],
   "source": [
    "num.fillna(0,inplace=True)"
   ]
  },
  {
   "cell_type": "code",
   "execution_count": 124,
   "id": "cf0e0150",
   "metadata": {},
   "outputs": [
    {
     "data": {
      "text/plain": [
       "False    140000\n",
       "Name: num_derogatorios, dtype: int64"
      ]
     },
     "execution_count": 124,
     "metadata": {},
     "output_type": "execute_result"
    }
   ],
   "source": [
    "num.num_derogatorios.isna().value_counts()"
   ]
  },
  {
   "cell_type": "markdown",
   "id": "82cb56e8",
   "metadata": {},
   "source": [
    "### Outliers"
   ]
  },
  {
   "cell_type": "markdown",
   "id": "760baf8c",
   "metadata": {},
   "source": [
    "#### By Standard Deviation"
   ]
  },
  {
   "cell_type": "code",
   "execution_count": 64,
   "id": "2b7419cb",
   "metadata": {},
   "outputs": [],
   "source": [
    "num_std = 4 #number of standar deviations"
   ]
  },
  {
   "cell_type": "markdown",
   "id": "942da237",
   "metadata": {},
   "source": [
    "###### Function that returns the indices of the outliers"
   ]
  },
  {
   "cell_type": "code",
   "execution_count": 65,
   "id": "8a81f494",
   "metadata": {},
   "outputs": [],
   "source": [
    "def outliers_std(variable, num_std = 4):\n",
    "  \n",
    "    variable = variable.dropna()\n",
    "    #limits\n",
    "    mean = np.mean(variable)\n",
    "    sd = np.std(variable)\n",
    "    treshold = sd * num_std\n",
    "    lower_lim = mean - treshold\n",
    "    upper_lim = mean + treshold\n",
    "    #find the indices of those that are out of bounds.\n",
    "    indices = [indice for indice,value in variable.items() if value < lower_lim or value > upper_lim]\n",
    "    return(indices)"
   ]
  },
  {
   "cell_type": "markdown",
   "id": "768e7398",
   "metadata": {},
   "source": [
    "###### Function that counts the number of outliers"
   ]
  },
  {
   "cell_type": "code",
   "execution_count": 66,
   "id": "5c8f4462",
   "metadata": {},
   "outputs": [],
   "source": [
    "def count_outliers(df,variable, num_std = 4):\n",
    "    outliers = outliers_std(df[variable], num_std)\n",
    "    return(df.loc[outliers,variable].value_counts().sort_index())"
   ]
  },
  {
   "cell_type": "markdown",
   "id": "5cd1e425",
   "metadata": {},
   "source": [
    "###### To apply"
   ]
  },
  {
   "cell_type": "code",
   "execution_count": 67,
   "id": "cfbb3d88",
   "metadata": {},
   "outputs": [],
   "source": [
    "var_outliers_dt = ['ingresos','principal','imp_cuota','imp_recuperado']"
   ]
  },
  {
   "cell_type": "code",
   "execution_count": 68,
   "id": "c4b74e98",
   "metadata": {},
   "outputs": [
    {
     "name": "stdout",
     "output_type": "stream",
     "text": [
      "\n",
      "ingresos:\n",
      "\n",
      "384,000.00       2\n",
      "385,000.00       5\n",
      "386,000.00       3\n",
      "388,000.00       1\n",
      "389,000.00       1\n",
      "                ..\n",
      "4,560,077.00     1\n",
      "7,000,000.00     1\n",
      "7,845,315.00     1\n",
      "9,550,000.00     1\n",
      "10,999,200.00    1\n",
      "Name: ingresos, Length: 160, dtype: int64\n",
      "\n",
      "principal:\n",
      "\n",
      "Series([], Name: principal, dtype: int64)\n",
      "\n",
      "imp_cuota:\n",
      "\n",
      "1,516.27    1\n",
      "1,535.71    1\n",
      "1,566.80    2\n",
      "1,587.02    1\n",
      "1,607.80    1\n",
      "1,714.54    1\n",
      "Name: imp_cuota, dtype: int64\n",
      "\n",
      "imp_recuperado:\n",
      "\n",
      "3,240.79     1\n",
      "3,240.90     1\n",
      "3,240.98     1\n",
      "3,241.68     1\n",
      "3,242.15     1\n",
      "            ..\n",
      "24,383.06    1\n",
      "26,172.99    1\n",
      "27,478.64    1\n",
      "27,657.68    1\n",
      "33,407.16    1\n",
      "Name: imp_recuperado, Length: 1549, dtype: int64\n"
     ]
    }
   ],
   "source": [
    "for variable in var_outliers_dt:\n",
    "    print('\\n' + variable + ':\\n')\n",
    "    print(count_outliers(num,variable,num_std))"
   ]
  },
  {
   "cell_type": "markdown",
   "id": "5beaeba9",
   "metadata": {},
   "source": [
    "Detail view."
   ]
  },
  {
   "cell_type": "code",
   "execution_count": 69,
   "id": "0b1c7eb8",
   "metadata": {},
   "outputs": [
    {
     "data": {
      "text/plain": [
       "count      140,000.00\n",
       "mean        78,035.13\n",
       "std         76,412.80\n",
       "min              0.00\n",
       "25%         46,325.00\n",
       "50%         65,000.00\n",
       "75%         93,000.00\n",
       "max     10,999,200.00\n",
       "Name: ingresos, dtype: float64"
      ]
     },
     "execution_count": 69,
     "metadata": {},
     "output_type": "execute_result"
    }
   ],
   "source": [
    "num.ingresos.describe()"
   ]
  },
  {
   "cell_type": "markdown",
   "id": "2b9255dd",
   "metadata": {},
   "source": [
    "Delete records with revenue greater than $300,000"
   ]
  },
  {
   "cell_type": "markdown",
   "id": "18548d6d",
   "metadata": {},
   "source": [
    "###### Id rows to drop"
   ]
  },
  {
   "cell_type": "code",
   "execution_count": 70,
   "id": "7d1c1e81",
   "metadata": {},
   "outputs": [
    {
     "data": {
      "text/plain": [
       "array([ 88149047,  96702950,  70180828,  83678168, 128295694,  55380417,\n",
       "        60525500,  70631462,  26329813, 114093587,    458760, 145133997,\n",
       "       141509839,  74845067, 113905376,  91162705,  69967314, 134144676,\n",
       "        33371205,  88195703, 114793732, 115048244,   9746316, 110905405,\n",
       "        89794872,  39559363,  70592833,  77517938,  93092543,    489907,\n",
       "       122689487,  57074442, 133401013,  79492925, 115085050,   3630153,\n",
       "       141591423,  67427919,  92659557,  60963266, 138925364, 102523636,\n",
       "       125219862,  88921166,  18895853, 109743090,    225812, 109322909,\n",
       "       137347897,  53252537,  60873988,  12938159, 120217704, 104110402,\n",
       "        65795964, 125737574, 132251779,   4044958, 134323203, 104319520,\n",
       "       145242693,  79081285,    620850, 120150582,  74585468, 143147174,\n",
       "       124877413, 122347658,   3643552,   1533286,  54248761, 145550896,\n",
       "       108846002, 102574792,  10105445,  57206063, 135802748,  46742451,\n",
       "       120205589,  46808563, 120605739,   1689366,  92104768,  88763639,\n",
       "        51898166, 119787910,  56934450,  35286237,  14530758,  39360555,\n",
       "       140851137,  41130637, 110714446, 143570470,  91946592, 142066146,\n",
       "        51195674, 127980829, 120091603,  77685207,  83964896, 101402707,\n",
       "        44796469, 134144026, 139043081, 142447421,  98845836, 122341298,\n",
       "        33411438, 144884757, 127844526,  94413951,  67989743, 142275020,\n",
       "        77815438, 104092211,  12596976,  50053165, 117716248,   5648222,\n",
       "       134742400,  88138821,  44389210,   9775633, 144541752, 134387430,\n",
       "       102586814,   2084601,  75447714,  66572368,  73302640, 131712369,\n",
       "         4285539,  10156133, 135655382,  19096231,  74664210,  21940897,\n",
       "        97750801,  76371883, 134123942, 108133540,  63525013,  91029006,\n",
       "       115397680, 122845355,  49874780,  73724009,  90114483, 130334199,\n",
       "        65736947, 131986111,  40492358,  77871568, 141129471,  46397393,\n",
       "       137369982,  87154949, 130818455, 124837135,  46586567,  65682244,\n",
       "       144991963,  90427593, 103467994, 144712082,  75209638, 130369988,\n",
       "       120038180, 124035266,  41950206,  28744221,  69156599, 141423357,\n",
       "        34422190, 141611571, 142396258, 102476130,  67918262, 135559263,\n",
       "       137489035, 137658495, 137921648,   7092557,  58722741, 137316914,\n",
       "       129397414, 133941950, 131507942,  39897292,  82030165, 116923559,\n",
       "        96202237,  12776568,  51396630,  22373282, 124795220, 139807209,\n",
       "       114175196, 127391586,  78709637, 142179922, 122227510, 130331377,\n",
       "        56864853, 107365904, 140958054, 143367322, 132003543,  44045403,\n",
       "        35003601, 144794804,  56662225,  96510442,  93217560, 109043561,\n",
       "       126492093, 111896883, 137039711,   3930156,  52668765, 124764970,\n",
       "       128536277,  35703428, 116820871,  68394198, 109915862,   8988273,\n",
       "        55210374,  55959447,  74765332, 131314415, 124793864, 104855156,\n",
       "        75203080, 125178698,  83388134, 136970362,   6765363,  90275160,\n",
       "        94057751, 112779927, 114175060,  58270253,  58270313,  37841834,\n",
       "       119301803,  74682106, 143215611,  84996477, 122359952,  81110235,\n",
       "        68999727, 136495710, 131524691,   3485093, 143031787,  45364141,\n",
       "        95037050,  46447735,   8494875,  83262629,  77021408, 133490161,\n",
       "       126118103,  94130434,  42642363,  52048938,  93110198,  97912497,\n",
       "        12625492, 132766601,  37217305,  79152000, 100075773,  58502629,\n",
       "       143289920, 103427531,  35683571,  91687865, 143429455, 127103613,\n",
       "       138871938, 141297636,  48324582,  33191872,  60286418, 104461407,\n",
       "        23873784,  72705326,  66401051,  90985447,    115363,  81467097,\n",
       "       119401404,  61509813,  76293515, 129105125,  25317030,  85018036,\n",
       "       138729453,  35146345,  28112154,  74975681,  97323656,  86001719,\n",
       "       107594877,  91127894,  21501092, 131620377,  99974574, 142965286,\n",
       "       126564865, 113203369,  94058423,  98758708, 127100028,   4694842,\n",
       "        66434325,  62529469, 137542106,  55179784,  50467050, 111896701,\n",
       "       121927166,  18645650,  73540781,   4564864, 107276053,  91538091,\n",
       "       139425758, 127647557, 121326208,  66086633, 112877623,  97304366,\n",
       "        60647806,  86962780, 131391959,  34352623, 139391691,  71746345,\n",
       "       103147580, 134218440,  98093258,  38524975, 141706040,  46447363,\n",
       "       127946315, 124778687,  90098332, 121345628, 125754008, 124139349,\n",
       "       136479269,  26699946, 145102584, 106845370, 110353166,  75094809,\n",
       "        72585852,  74816105,  97376636, 122698257,  93911517, 124774802,\n",
       "        64391289,  89858761, 114219428,  60804291, 119223452,  43145218,\n",
       "        71061821, 132067683,  67286290,  28212093,   3057462, 142637793,\n",
       "       135049135, 130344866,  54047516,   1682847, 109650231, 140523543,\n",
       "         4279342,  70000598,  63919025, 121758201,  18564727, 118198788,\n",
       "       125338224, 139660109, 145074086, 138773650,  73479902, 133212209,\n",
       "       141297375,  94436457,   4305663,   8968659, 134998359, 132242662,\n",
       "       138248494,  73943681,  14548057,  50627726, 124862018, 126279677,\n",
       "        70836049,  14638033,  60307143, 131466556, 120601747,  60740065,\n",
       "       129816807,  75718365,  50920454, 116869902, 139625355,  97316472,\n",
       "         6739165,  17745104,  70091528, 141407002,  78339835,  12657058,\n",
       "        81405134, 143875450, 144580467,  88118502, 128212905, 123070288,\n",
       "        94336985,  47350458,  84455619,  44845802,  32488882,  84476341,\n",
       "        12947239, 137322291,   5620186,  77337680,  98441217,   3701879,\n",
       "        10775105,  57326917, 144110938,  83889556,  70811286,  74514857,\n",
       "       111730660,  92350954,  88887467, 120186820,  74574091,  65434500,\n",
       "       141030059, 142998904,  74604136, 120385175, 134263675,  93105696,\n",
       "        97537454,  71756031,  93135754,  81513403,  76498775, 125495384,\n",
       "        94293814, 130929563,  79044039,  83719876, 128105949, 140497949,\n",
       "       125693256,  54928488, 140937692,  75103252,  50465393,  84664341,\n",
       "       107058263,  37751532,  55928591,   1437658,  85641729, 139621248,\n",
       "       142934714, 130820205, 133449364,  17332882,  87165108, 117807046,\n",
       "        97344567, 110662311, 125034601, 108514084, 138304752, 106987403,\n",
       "        26989794, 141804011,  74101233, 105141433,  96628935,  72683773,\n",
       "        75182422,  95330554,  94293008,  38655125, 119136559,  60871980,\n",
       "        45794303, 144138560,   4095255,  61331292,  61369832, 140879695,\n",
       "        26749474,  87904317,  69742452, 127090975,    986703,  83313940,\n",
       "       137212507, 136800122,  96214908,  90299072,   8607822, 129997570,\n",
       "        55455330,  96342937, 136491216,  21149939,  86522701,   9209184,\n",
       "        40999819,  53795273, 133131739, 125855577,  73231267,   8659312,\n",
       "        23173158, 120158038, 126203380,   4526730,  67808218,  75941752,\n",
       "        12706051,  65725904, 106936032,  92204864,  56482837, 137049127,\n",
       "         4544953,  51376251,  60285319,  19607586,  46612958,  39580700,\n",
       "       125281686, 109233752,    785827,  17793409,  86246563, 132623042,\n",
       "       131547163,  29713905,  84044804, 137147859, 143917509, 132700799,\n",
       "       144959732,  83826256,  43470183,   9047763,  57164896,  96421352,\n",
       "        47018331, 106806597, 119993069, 112029060, 133797798, 125704018,\n",
       "       128112710,  68895741, 134316802, 132401669,  77961221,  12295155,\n",
       "        75368178, 120384326,  97367806, 135793422, 131405802,  59945430,\n",
       "       125044099,  75808253,   9914858, 112159196,   7698843,  50580811,\n",
       "       139003798,  13737728,  68414600, 110343004, 141510571, 119279947,\n",
       "       101961161, 137443466,  97356377, 112840564,  77306764,  27721310,\n",
       "       109727336,  89909030, 111409777, 115701929, 105637642,  63888868,\n",
       "        33131359,  75678885, 108107905, 119261152,  97268541,  66463794,\n",
       "       104472570,  44995922, 141216561,  70742939,  92339595, 139667670,\n",
       "         9694744,  63459129,    519954, 119398720, 142896440,  42161459,\n",
       "        67358976,  94109307,  70773671, 110321902, 130946575,   1282553,\n",
       "        84625764,  59391462, 109780689,  95149159,  60356694,  40510267,\n",
       "        77416427,  88880516,  83757649, 142504686,  69646648,  70741949,\n",
       "       127583119, 118224064, 103637970,  41120916,  16912784,  22151602,\n",
       "        70552657,  29313901, 113045183, 120659977,  12499335, 109741122,\n",
       "       126833847,  95203319,  96493730, 126286137, 125962449, 142014029,\n",
       "        96356064, 135374430, 128746206, 127274866,  98044750,  92729477,\n",
       "        59382203, 106347831,  69522356, 125051305, 141216676,  91230203,\n",
       "       113181130, 141836957, 130928715,  60890496, 121299392, 128733287,\n",
       "        74865375,  38637805,  78558450, 142853610, 108124357, 113822365,\n",
       "       142998906, 142911819, 141752541,  54107140, 132932888,  94191553,\n",
       "       128244676,  75878818,   1446979, 129127730,  78800043, 130756073,\n",
       "       110261189, 140250578,  76558623,  69762726, 136034396,  16231199,\n",
       "       136149839,  66420385, 144597540, 126419934,  43499873,  92912522,\n",
       "       143892648,  98795657, 107357067,  46782740,  12515907,  23965663,\n",
       "        62337205, 129870781, 113537734, 145090075,  70090973, 132997717,\n",
       "       119404461,  63328940,  79370500, 112565361, 107459447, 126757972,\n",
       "         3700899,  70886304,  37021348, 129635030,  98438505,  37730723,\n",
       "       137884077, 117489130,  68884530, 142474254,  96261571,  65975274,\n",
       "        52057332, 142092780, 141280501,  69085139, 116244189,  57044192,\n",
       "        65128137, 125939307, 134022206,  59462084, 110311657,  69127115,\n",
       "        91984876, 122285995, 139774280, 102435586,  13267509,  85371987,\n",
       "       117841293, 105773455,  75324463,  65364744,  93429953,  88014924,\n",
       "       111066384, 122700272, 133212045, 141068415,  83756574, 107058120,\n",
       "        76411138, 136429088,  94291807, 110282781,  78901356,  77091866,\n",
       "       142890805, 123604983, 117218856, 139391814, 134296571, 145417443,\n",
       "        97559272, 133076559, 138054070, 140832746,  26820123,  72712649,\n",
       "        39571843,  46746882, 121789304, 130164560,  95816450, 107336706,\n",
       "        96425877,  76985717,  54423766, 136396069, 121320830, 143887377,\n",
       "        61354166,  13496989, 105873152,  68691365,  44106486,  96379781,\n",
       "        61311868, 127213522,  71755374,  58682603,  70511606, 112971525,\n",
       "        85732516,  27120381, 127331446, 139794277, 134863470, 132102792,\n",
       "       128130585, 132473657, 136269133, 113180574, 102463427, 125728448,\n",
       "       112838177, 141234913,  92460017,  88704137,  90481398,   4298738,\n",
       "        39480666,  94742537, 126624031,  43935902,  21591313,  43287211,\n",
       "        68694046,  92951346, 112751925,  63178081,   4307450, 124998744,\n",
       "       104541361,   7081552, 121396944, 130827714,  17654532,  55937578,\n",
       "       140832910, 125368142,   6298875,  38604767,  34934353, 138260156,\n",
       "       133942061,  63547209,  87314489, 119882670,   4287915,  54534988,\n",
       "        67326589,  84615347,  75289208,   3287408,  88043946, 142507153,\n",
       "       120092069, 127011767, 127021576,  91363523, 121245177,  39827879,\n",
       "       119692786,  77366625, 114514072,  38559964,  65028939,  57195994,\n",
       "        91593619, 139082105, 120652956,  89543172], dtype=int64)"
      ]
     },
     "execution_count": 70,
     "metadata": {},
     "output_type": "execute_result"
    }
   ],
   "source": [
    "to_drop = num.loc[num.ingresos > 300000].index.values\n",
    "to_drop"
   ]
  },
  {
   "cell_type": "markdown",
   "id": "b995bf77",
   "metadata": {},
   "source": [
    "###### Apply"
   ]
  },
  {
   "cell_type": "code",
   "execution_count": 71,
   "id": "413fa5ea",
   "metadata": {},
   "outputs": [],
   "source": [
    "cat = cat[~cat.index.isin(to_drop)]\n",
    "num = num[~num.index.isin(to_drop)]"
   ]
  },
  {
   "cell_type": "markdown",
   "id": "0f6b1e4a",
   "metadata": {},
   "source": [
    "## SAVE DATASETS AFTER DATA QUALITY"
   ]
  },
  {
   "cell_type": "code",
   "execution_count": 72,
   "id": "f83c6f26",
   "metadata": {},
   "outputs": [],
   "source": [
    "path_work = path + '/02_Data/03_Work/' + 'work_result_quality.pickle'\n",
    "path_cat = path + '/02_Data/03_Work/' + 'cat_result_quality.pickle'\n",
    "path_num = path + '/02_Data/03_Work/' + 'num_result_quality.pickle'"
   ]
  },
  {
   "cell_type": "code",
   "execution_count": 73,
   "id": "6731887a",
   "metadata": {},
   "outputs": [],
   "source": [
    "df.to_pickle(path_work)\n",
    "cat.to_pickle(path_cat)\n",
    "num.to_pickle(path_num)"
   ]
  },
  {
   "cell_type": "code",
   "execution_count": null,
   "id": "a849df1e",
   "metadata": {},
   "outputs": [],
   "source": []
  }
 ],
 "metadata": {
  "kernelspec": {
   "display_name": "Python 3 (ipykernel)",
   "language": "python",
   "name": "python3"
  },
  "language_info": {
   "codemirror_mode": {
    "name": "ipython",
    "version": 3
   },
   "file_extension": ".py",
   "mimetype": "text/x-python",
   "name": "python",
   "nbconvert_exporter": "python",
   "pygments_lexer": "ipython3",
   "version": "3.10.8"
  },
  "toc": {
   "base_numbering": 1,
   "nav_menu": {},
   "number_sections": true,
   "sideBar": true,
   "skip_h1_title": false,
   "title_cell": "Table of Contents",
   "title_sidebar": "Contents",
   "toc_cell": false,
   "toc_position": {
    "height": "calc(100% - 180px)",
    "left": "10px",
    "top": "150px",
    "width": "298.833px"
   },
   "toc_section_display": true,
   "toc_window_display": true
  },
  "varInspector": {
   "cols": {
    "lenName": 16,
    "lenType": 16,
    "lenVar": 40
   },
   "kernels_config": {
    "python": {
     "delete_cmd_postfix": "",
     "delete_cmd_prefix": "del ",
     "library": "var_list.py",
     "varRefreshCmd": "print(var_dic_list())"
    },
    "r": {
     "delete_cmd_postfix": ") ",
     "delete_cmd_prefix": "rm(",
     "library": "var_list.r",
     "varRefreshCmd": "cat(var_dic_list()) "
    }
   },
   "position": {
    "height": "546.85px",
    "left": "680.75px",
    "right": "20px",
    "top": "118px",
    "width": "350px"
   },
   "types_to_exclude": [
    "module",
    "function",
    "builtin_function_or_method",
    "instance",
    "_Feature"
   ],
   "window_display": false
  }
 },
 "nbformat": 4,
 "nbformat_minor": 5
}
